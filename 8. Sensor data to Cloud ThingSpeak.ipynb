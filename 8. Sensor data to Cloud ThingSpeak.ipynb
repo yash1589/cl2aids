{
 "cells": [
  {
   "cell_type": "code",
   "execution_count": 1,
   "id": "e248da25-7e5d-48e4-af4e-0ab1873e90c4",
   "metadata": {},
   "outputs": [],
   "source": [
    "import http.client\n",
    "import urllib.request,urllib.parse\n",
    "import pandas as pd"
   ]
  },
  {
   "cell_type": "code",
   "execution_count": 2,
   "id": "e5a12fb0-7255-4a9e-8eb3-3d2bb473a9c8",
   "metadata": {},
   "outputs": [],
   "source": [
    "key = '6Y9WCWMPJWW4GU8T' # copy the write API key"
   ]
  },
  {
   "cell_type": "code",
   "execution_count": 3,
   "id": "0b2b9467-1867-4a2b-895b-900c9a10301e",
   "metadata": {},
   "outputs": [],
   "source": [
    "t=int(22)\n",
    "temperatures = []"
   ]
  },
  {
   "cell_type": "code",
   "execution_count": null,
   "id": "677efec9-3ad8-40a8-af3f-f9f9be192e6a",
   "metadata": {},
   "outputs": [
    {
     "name": "stdout",
     "output_type": "stream",
     "text": [
      "temperature 23\n",
      "200 OK\n",
      "temperature 24\n",
      "200 OK\n",
      "temperature 25\n",
      "200 OK\n",
      "temperature 26\n",
      "200 OK\n",
      "temperature 27\n",
      "200 OK\n",
      "temperature 28\n",
      "200 OK\n",
      "temperature 29\n",
      "200 OK\n",
      "temperature 30\n",
      "200 OK\n",
      "temperature 31\n",
      "200 OK\n",
      "temperature 32\n",
      "200 OK\n",
      "temperature 33\n",
      "200 OK\n",
      "temperature 34\n",
      "200 OK\n",
      "temperature 35\n",
      "200 OK\n",
      "temperature 36\n",
      "200 OK\n",
      "temperature 37\n",
      "200 OK\n",
      "temperature 38\n",
      "200 OK\n",
      "temperature 39\n"
     ]
    }
   ],
   "source": [
    "while t < 100:\n",
    "    t=t+1\n",
    "    print (\"temperature\",t)\n",
    "    temperatures.append(t)\n",
    "    params=urllib.parse.urlencode({'field1':t,'key':key})\n",
    "    headers={\"Content-type\":\"application/x-www-form-urlencoded\",\"Accept\":\"text/plain\"}\n",
    "    con=http.client.HTTPConnection(\"api.thingspeak.com\")\n",
    "    con.request(\"POST\",\"/update\",params,headers)\n",
    "    response=con.getresponse()\n",
    "    print (response.status,response.reason)\n",
    "    data=response.read()\n",
    "    con.close()"
   ]
  },
  {
   "cell_type": "code",
   "execution_count": null,
   "id": "91750635-3f1f-4554-9f18-7cbd157e0319",
   "metadata": {},
   "outputs": [],
   "source": [
    "temperature_df = pd.DataFrame(temperatures, columns=['Temperature'])\n",
    "temperature_df.head()"
   ]
  },
  {
   "cell_type": "code",
   "execution_count": null,
   "id": "393fbd3b-1ff7-4e8a-85b6-b202622edc32",
   "metadata": {},
   "outputs": [],
   "source": []
  }
 ],
 "metadata": {
  "kernelspec": {
   "display_name": "Python 3 (ipykernel)",
   "language": "python",
   "name": "python3"
  },
  "language_info": {
   "codemirror_mode": {
    "name": "ipython",
    "version": 3
   },
   "file_extension": ".py",
   "mimetype": "text/x-python",
   "name": "python",
   "nbconvert_exporter": "python",
   "pygments_lexer": "ipython3",
   "version": "3.10.12"
  }
 },
 "nbformat": 4,
 "nbformat_minor": 5
}
