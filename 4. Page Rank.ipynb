{
 "cells": [
  {
   "cell_type": "code",
   "execution_count": 10,
   "id": "d95e2351-e08f-4b1e-86f2-f92739b2718a",
   "metadata": {},
   "outputs": [],
   "source": [
    "import numpy as np"
   ]
  },
  {
   "cell_type": "code",
   "execution_count": 11,
   "id": "4d6498ee-228c-4377-be85-594c2b1eb4c4",
   "metadata": {},
   "outputs": [],
   "source": [
    "def calculate_pagerank(adjacency_matrix, num_iterations=100, tolerance=1e-6, damping_factor=0.75):\n",
    "    num_nodes = adjacency_matrix.shape[0]\n",
    "    \n",
    "    # Start with an equal initial PageRank vector\n",
    "    ranks = np.ones(num_nodes) / num_nodes\n",
    "    \n",
    "    # Convert adjacency matrix to a probability matrix\n",
    "    out_degree = np.sum(adjacency_matrix, axis=1, keepdims=True)\n",
    "    probability_matrix = np.divide(adjacency_matrix, out_degree, where=out_degree != 0)\n",
    "    \n",
    "    # Transition matrix with damping factor\n",
    "    transition_matrix = damping_factor * probability_matrix + (1 - damping_factor) / num_nodes\n",
    "\n",
    "    for i in range(num_iterations):\n",
    "        new_ranks = transition_matrix @ ranks  # Update ranks\n",
    "\n",
    "        # Convergence check\n",
    "        if np.linalg.norm(new_ranks - ranks, 1) < tolerance:\n",
    "            print(f\"Converged after {i + 1} iterations.\")\n",
    "            break\n",
    "        \n",
    "        ranks = new_ranks\n",
    "\n",
    "    return ranks / ranks.sum()"
   ]
  },
  {
   "cell_type": "code",
   "execution_count": 12,
   "id": "8d452bfc-7180-47c7-92c1-5f919774d00f",
   "metadata": {},
   "outputs": [],
   "source": [
    "adjacency_matrix = np.array([\n",
    "    [0, 1, 1, 0, 0, 0],\n",
    "    [0, 0, 1, 1, 0, 0],\n",
    "    [0, 0, 0, 1, 1, 0],\n",
    "    [0, 0, 0, 0, 1, 0],\n",
    "    [1, 0, 0, 0, 0, 1],\n",
    "    [0, 0, 0, 0, 0, 0]\n",
    "])"
   ]
  },
  {
   "cell_type": "code",
   "execution_count": 13,
   "id": "912c7b63-ba94-4154-9431-3a02e81d44c2",
   "metadata": {},
   "outputs": [
    {
     "name": "stdout",
     "output_type": "stream",
     "text": [
      "PageRank values (in percentages):\n",
      "Node 1: 19.18%\n",
      "Node 2: 18.70%\n",
      "Node 3: 18.01%\n",
      "Node 4: 17.52%\n",
      "Node 5: 16.28%\n",
      "Node 6: 10.30%\n"
     ]
    }
   ],
   "source": [
    "pagerank_values = calculate_pagerank(adjacency_matrix)\n",
    "print(\"PageRank values (in percentages):\")\n",
    "for i, rank in enumerate(pagerank_values):\n",
    "    print(f\"Node {i + 1}: {rank * 100:.2f}%\")"
   ]
  },
  {
   "cell_type": "code",
   "execution_count": null,
   "id": "e509b406-b4df-4f6a-b0b1-274a865b3ae1",
   "metadata": {},
   "outputs": [],
   "source": []
  }
 ],
 "metadata": {
  "kernelspec": {
   "display_name": "Python 3 (ipykernel)",
   "language": "python",
   "name": "python3"
  },
  "language_info": {
   "codemirror_mode": {
    "name": "ipython",
    "version": 3
   },
   "file_extension": ".py",
   "mimetype": "text/x-python",
   "name": "python",
   "nbconvert_exporter": "python",
   "pygments_lexer": "ipython3",
   "version": "3.10.12"
  }
 },
 "nbformat": 4,
 "nbformat_minor": 5
}
