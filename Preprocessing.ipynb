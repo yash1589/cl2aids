{
 "cells": [
  {
   "cell_type": "code",
   "execution_count": 14,
   "id": "2de050a5-b253-4d22-812a-12c361bf3137",
   "metadata": {},
   "outputs": [],
   "source": [
    "import nltk\n",
    "from nltk.corpus import stopwords\n",
    "from nltk.stem import PorterStemmer, WordNetLemmatizer, SnowballStemmer"
   ]
  },
  {
   "cell_type": "code",
   "execution_count": 15,
   "id": "e04ec7e2-3929-4539-ad47-adaf91d0d5d7",
   "metadata": {},
   "outputs": [
    {
     "name": "stderr",
     "output_type": "stream",
     "text": [
      "[nltk_data] Downloading package stopwords to /home/u-os/nltk_data...\n",
      "[nltk_data]   Package stopwords is already up-to-date!\n",
      "[nltk_data] Downloading package punkt to /home/u-os/nltk_data...\n",
      "[nltk_data]   Package punkt is already up-to-date!\n",
      "[nltk_data] Downloading package wordnet to /home/u-os/nltk_data...\n",
      "[nltk_data]   Package wordnet is already up-to-date!\n"
     ]
    },
    {
     "data": {
      "text/plain": [
       "True"
      ]
     },
     "execution_count": 15,
     "metadata": {},
     "output_type": "execute_result"
    }
   ],
   "source": [
    "nltk.download('stopwords')\n",
    "nltk.download('punkt')\n",
    "nltk.download('wordnet')"
   ]
  },
  {
   "cell_type": "code",
   "execution_count": 16,
   "id": "e99063b2-4520-48e9-8589-0402aad99e6b",
   "metadata": {},
   "outputs": [],
   "source": [
    "text = \" A Natural Language Processing enables computers to  and understand human language.\""
   ]
  },
  {
   "cell_type": "code",
   "execution_count": 17,
   "id": "f7f90dba-7c68-4fd7-b1ea-c351fb2d5e5f",
   "metadata": {},
   "outputs": [],
   "source": [
    "def remove_stop_words(text):\n",
    "    words = text.split()\n",
    "    stop_words = set(stopwords.words('english'))\n",
    "    return ' '.join([word for word in words if word.lower() not in stop_words])"
   ]
  },
  {
   "cell_type": "code",
   "execution_count": 18,
   "id": "d5bc4ad4-85e3-4174-beba-4aa083698ece",
   "metadata": {},
   "outputs": [],
   "source": [
    "def stem_text(text):\n",
    "    snowball_stemmer = SnowballStemmer(\"english\")\n",
    "    words = text.split()\n",
    "    return ' '.join([snowball_stemmer.stem(word) for word in words])"
   ]
  },
  {
   "cell_type": "code",
   "execution_count": 20,
   "id": "467adbb5-a4c9-43f2-8556-0e7dec19aeab",
   "metadata": {},
   "outputs": [
    {
     "data": {
      "text/plain": [
       "'Natural Language Processing enables computers understand human language.'"
      ]
     },
     "execution_count": 20,
     "metadata": {},
     "output_type": "execute_result"
    }
   ],
   "source": [
    "remove_stop_words(text)"
   ]
  },
  {
   "cell_type": "code",
   "execution_count": 22,
   "id": "675dd141-aa5a-4b99-a8aa-4dfab2dbb101",
   "metadata": {},
   "outputs": [
    {
     "data": {
      "text/plain": [
       "'a natur languag process enabl comput to and understand human language.'"
      ]
     },
     "execution_count": 22,
     "metadata": {},
     "output_type": "execute_result"
    }
   ],
   "source": [
    "stem_text(text)"
   ]
  },
  {
   "cell_type": "code",
   "execution_count": null,
   "id": "b3197824-6d24-4949-b3bd-35ddbdc41974",
   "metadata": {},
   "outputs": [],
   "source": []
  }
 ],
 "metadata": {
  "kernelspec": {
   "display_name": "Python 3 (ipykernel)",
   "language": "python",
   "name": "python3"
  },
  "language_info": {
   "codemirror_mode": {
    "name": "ipython",
    "version": 3
   },
   "file_extension": ".py",
   "mimetype": "text/x-python",
   "name": "python",
   "nbconvert_exporter": "python",
   "pygments_lexer": "ipython3",
   "version": "3.10.12"
  }
 },
 "nbformat": 4,
 "nbformat_minor": 5
}
