{
 "cells": [
  {
   "cell_type": "code",
   "execution_count": 10,
   "id": "13c97965-9676-49a6-9f57-3bf06916a998",
   "metadata": {},
   "outputs": [],
   "source": [
    "#pip install cryptography"
   ]
  },
  {
   "cell_type": "code",
   "execution_count": 11,
   "id": "a93c3bb3-f353-4207-b21a-488de834fdf0",
   "metadata": {},
   "outputs": [],
   "source": [
    "import hashlib  # For hashing to ensure data integrity\n",
    "from cryptography.fernet import Fernet  # For encryption\n",
    "import random # For simulating sensor data"
   ]
  },
  {
   "cell_type": "code",
   "execution_count": 12,
   "id": "174e3136-d699-4c3d-b859-4ea6c94b06bd",
   "metadata": {},
   "outputs": [],
   "source": [
    "# Generate an encryption key\n",
    "key = Fernet.generate_key()\n",
    "cipher = Fernet(key)"
   ]
  },
  {
   "cell_type": "code",
   "execution_count": 13,
   "id": "70563d37-0a42-4839-a84e-3cb2baa991c5",
   "metadata": {},
   "outputs": [],
   "source": [
    "def get_sensor_data():\n",
    "    return random.uniform(50, 100)  # Random temperature between 50°C and 100°C\n",
    "\n",
    "# Encrypt the sensor data\n",
    "def encrypt_data(data, cipher):\n",
    "    return cipher.encrypt(data.encode())\n",
    "\n",
    "# Decrypt the sensor data\n",
    "def decrypt_data(encrypted_data, cipher):\n",
    "    return cipher.decrypt(encrypted_data).decode()\n",
    "\n",
    "# Verify data integrity using hashing\n",
    "def verify_data_integrity(data):\n",
    "    return hashlib.sha256(data.encode()).hexdigest()"
   ]
  },
  {
   "cell_type": "code",
   "execution_count": 14,
   "id": "c3527319-37d3-43b3-8103-034c25568008",
   "metadata": {},
   "outputs": [
    {
     "name": "stdout",
     "output_type": "stream",
     "text": [
      "Original Data: Temperature: 61.15°C\n",
      "Encrypted Data: b'gAAAAABnK6mZYv47W6OwStt7YuCjSVK7rklCd7mRX6mjxeBGs9neDTptEIUSpPO8iDTYzbpVbRUolmmZ-MiBN4XI4CbGNt1xFrAs5ZO3YjwT3v3Z_vc8vFI='\n",
      "Decrypted Data: Temperature: 61.15°C\n"
     ]
    }
   ],
   "source": [
    "sensor_data = f\"Temperature: {get_sensor_data():.2f}°C\"\n",
    "print(\"Original Data:\", sensor_data)\n",
    "\n",
    "# Encrypt and then decrypt the data\n",
    "encrypted_data = encrypt_data(sensor_data, cipher)\n",
    "print(\"Encrypted Data:\", encrypted_data)\n",
    "\n",
    "decrypted_data = decrypt_data(encrypted_data, cipher)\n",
    "print(\"Decrypted Data:\", decrypted_data)"
   ]
  },
  {
   "cell_type": "code",
   "execution_count": 15,
   "id": "0495dcab-ca57-49bc-baea-93a57aa9db41",
   "metadata": {},
   "outputs": [
    {
     "name": "stdout",
     "output_type": "stream",
     "text": [
      "Data Integrity Verified: Hashes match.\n"
     ]
    }
   ],
   "source": [
    "original_hash = verify_data_integrity(sensor_data)\n",
    "decrypted_hash = verify_data_integrity(decrypted_data)\n",
    "if original_hash == decrypted_hash:\n",
    "    print(\"Data Integrity Verified: Hashes match.\")\n",
    "else:\n",
    "    print(\"Data Integrity Issue: Hashes do not match.\")"
   ]
  },
  {
   "cell_type": "code",
   "execution_count": null,
   "id": "23aaa8d1-12c7-4533-a5fd-38d18f53570a",
   "metadata": {},
   "outputs": [],
   "source": []
  }
 ],
 "metadata": {
  "kernelspec": {
   "display_name": "Python 3 (ipykernel)",
   "language": "python",
   "name": "python3"
  },
  "language_info": {
   "codemirror_mode": {
    "name": "ipython",
    "version": 3
   },
   "file_extension": ".py",
   "mimetype": "text/x-python",
   "name": "python",
   "nbconvert_exporter": "python",
   "pygments_lexer": "ipython3",
   "version": "3.12.0"
  }
 },
 "nbformat": 4,
 "nbformat_minor": 5
}
