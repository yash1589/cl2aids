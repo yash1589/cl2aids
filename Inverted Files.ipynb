{
 "cells": [
  {
   "cell_type": "code",
   "execution_count": 1,
   "id": "571679f6-efac-489e-8379-3b626e0fbac4",
   "metadata": {},
   "outputs": [],
   "source": [
    "class InvertedIndex:\n",
    "    def __init__(self):\n",
    "        self.index = {}\n",
    "    \n",
    "    def add_document(self, doc_id, text):\n",
    "        words = text.lower().split()\n",
    "        for word in words:\n",
    "            if word not in self.index:\n",
    "                self.index[word] = []\n",
    "            if doc_id not in self.index[word]:\n",
    "                self.index[word].append(doc_id)\n",
    "      \n",
    "    def search(self, query):\n",
    "        words = query.lower().split()\n",
    "        result_docs = set(self.index.get(words[0], []))\n",
    "        for word in words[1:]:\n",
    "            result_docs &= set(self.index.get(word, []))\n",
    "        return result_docs"
   ]
  },
  {
   "cell_type": "code",
   "execution_count": 2,
   "id": "639e0afb-27ec-48dc-9e0e-22dac62441bb",
   "metadata": {},
   "outputs": [],
   "source": [
    "documents = {\n",
    "    1: \"apple orange banana\",\n",
    "    2: \"apple fruit\",\n",
    "    3: \"banana orange fruit\",\n",
    "    4: \"orange cat is big fat\"\n",
    "}"
   ]
  },
  {
   "cell_type": "code",
   "execution_count": 3,
   "id": "e16680ec-45f5-4a26-aff4-c8510d8c1ed3",
   "metadata": {},
   "outputs": [
    {
     "name": "stdin",
     "output_type": "stream",
     "text": [
      "Enter search query:  apple\n"
     ]
    },
    {
     "name": "stdout",
     "output_type": "stream",
     "text": [
      "Documents matching 'apple': {1, 2}\n"
     ]
    }
   ],
   "source": [
    "index = InvertedIndex()\n",
    "for doc_id, text in documents.items():\n",
    "    index.add_document(doc_id, text)\n",
    "\n",
    "# Search for a query\n",
    "query = input(\"Enter search query: \")\n",
    "result = index.search(query)\n",
    "\n",
    "# Display results\n",
    "print(f\"Documents matching '{query}':\", result if result else \"No matches found\")\n",
    "\n",
    "  "
   ]
  },
  {
   "cell_type": "code",
   "execution_count": null,
   "id": "1d4dbdc2-7e56-4807-9223-febe43d28032",
   "metadata": {},
   "outputs": [],
   "source": []
  },
  {
   "cell_type": "code",
   "execution_count": null,
   "id": "9c54a2d8-b360-47b1-ac80-abbd55a6312b",
   "metadata": {},
   "outputs": [],
   "source": []
  },
  {
   "cell_type": "code",
   "execution_count": null,
   "id": "e74f28f6-02e4-4ed0-a798-135f31dc653e",
   "metadata": {},
   "outputs": [],
   "source": []
  }
 ],
 "metadata": {
  "kernelspec": {
   "display_name": "Python 3 (ipykernel)",
   "language": "python",
   "name": "python3"
  },
  "language_info": {
   "codemirror_mode": {
    "name": "ipython",
    "version": 3
   },
   "file_extension": ".py",
   "mimetype": "text/x-python",
   "name": "python",
   "nbconvert_exporter": "python",
   "pygments_lexer": "ipython3",
   "version": "3.10.12"
  }
 },
 "nbformat": 4,
 "nbformat_minor": 5
}
